{
 "cells": [
  {
   "cell_type": "markdown",
   "id": "86aa92e4",
   "metadata": {},
   "source": [
    "# MLE challenge - Features engineering"
   ]
  },
  {
   "cell_type": "markdown",
   "id": "97797e24",
   "metadata": {},
   "source": [
    "### Notebook 1"
   ]
  },
  {
   "cell_type": "markdown",
   "id": "8331a455",
   "metadata": {},
   "source": [
    "In this notebook we compute five features for the **credit risk** dataset. \n",
    "Each row in the dataset consists of the credit that a user took on a given date.\n",
    "\n",
    "These features are roughly defined as follows:\n",
    "\n",
    "**nb_previous_loans:** number of loans granted to a given user, before the current loan.\n",
    "\n",
    "**avg_amount_loans_previous:** average amount of loans granted to a user, before the current rating.\n",
    "\n",
    "**age:** user age in years.\n",
    "\n",
    "**years_on_the_job:** years the user has been in employment.\n",
    "\n",
    "**flag_own_car:** flag that indicates if the user has his own car.\n",
    "\n",
    "We have the following problem: the feature `avg_amount_loans_previous` takes just too long to be computed for all the rows of the dataset (at least the way it's implemented).\n",
    "\n",
    "\n"
   ]
  },
  {
   "cell_type": "code",
   "execution_count": 1,
   "id": "1972e258",
   "metadata": {},
   "outputs": [],
   "source": [
    "import pandas as pd"
   ]
  },
  {
   "cell_type": "code",
   "execution_count": 2,
   "id": "1eaf984f",
   "metadata": {},
   "outputs": [],
   "source": [
    "df = pd.read_csv('../data/raw_data/dataset_credit_risk.csv')"
   ]
  },
  {
   "cell_type": "code",
   "execution_count": 3,
   "id": "91f346ce",
   "metadata": {},
   "outputs": [
    {
     "data": {
      "text/plain": "(777715, 24)"
     },
     "execution_count": 3,
     "metadata": {},
     "output_type": "execute_result"
    }
   ],
   "source": [
    "df.shape"
   ]
  },
  {
   "cell_type": "code",
   "execution_count": 4,
   "id": "65380f2f",
   "metadata": {},
   "outputs": [
    {
     "data": {
      "text/plain": "   loan_id       id code_gender flag_own_car flag_own_realty  cnt_children  \\\n0   208089  5044500           F            N               Y             0   \n1   112797  5026631           F            N               Y             0   \n2   162434  5036645           M            Y               N             0   \n3   144343  5033584           F            N               Y             0   \n4   409695  5085755           F            Y               Y             1   \n\n   amt_income_total      name_income_type            name_education_type  \\\n0           45000.0             Pensioner  Secondary / secondary special   \n1           99000.0               Working  Secondary / secondary special   \n2          202500.0               Working              Incomplete higher   \n3          292500.0               Working               Higher education   \n4          112500.0  Commercial associate  Secondary / secondary special   \n\n  name_family_status  ... flag_work_phone  flag_phone  flag_email  \\\n0              Widow  ...               0           0           0   \n1          Separated  ...               0           0           0   \n2            Married  ...               0           0           0   \n3            Married  ...               0           0           0   \n4     Civil marriage  ...               0           0           0   \n\n   occupation_type  cnt_fam_members  status    birthday job_start_date  \\\n0              NaN              1.0       0  1955-08-04     3021-09-18   \n1   Medicine staff              1.0       0  1972-03-30     1997-06-05   \n2          Drivers              2.0       0  1987-03-24     2015-02-22   \n3              NaN              2.0       0  1973-03-15     2009-06-29   \n4       Core staff              3.0       0  1989-10-15     2019-07-03   \n\n    loan_date  loan_amount  \n0  2019-01-01   133.714974  \n1  2019-01-01   158.800558  \n2  2019-01-01   203.608487  \n3  2019-01-01   113.204964  \n4  2019-01-01   109.376260  \n\n[5 rows x 24 columns]",
      "text/html": "<div>\n<style scoped>\n    .dataframe tbody tr th:only-of-type {\n        vertical-align: middle;\n    }\n\n    .dataframe tbody tr th {\n        vertical-align: top;\n    }\n\n    .dataframe thead th {\n        text-align: right;\n    }\n</style>\n<table border=\"1\" class=\"dataframe\">\n  <thead>\n    <tr style=\"text-align: right;\">\n      <th></th>\n      <th>loan_id</th>\n      <th>id</th>\n      <th>code_gender</th>\n      <th>flag_own_car</th>\n      <th>flag_own_realty</th>\n      <th>cnt_children</th>\n      <th>amt_income_total</th>\n      <th>name_income_type</th>\n      <th>name_education_type</th>\n      <th>name_family_status</th>\n      <th>...</th>\n      <th>flag_work_phone</th>\n      <th>flag_phone</th>\n      <th>flag_email</th>\n      <th>occupation_type</th>\n      <th>cnt_fam_members</th>\n      <th>status</th>\n      <th>birthday</th>\n      <th>job_start_date</th>\n      <th>loan_date</th>\n      <th>loan_amount</th>\n    </tr>\n  </thead>\n  <tbody>\n    <tr>\n      <th>0</th>\n      <td>208089</td>\n      <td>5044500</td>\n      <td>F</td>\n      <td>N</td>\n      <td>Y</td>\n      <td>0</td>\n      <td>45000.0</td>\n      <td>Pensioner</td>\n      <td>Secondary / secondary special</td>\n      <td>Widow</td>\n      <td>...</td>\n      <td>0</td>\n      <td>0</td>\n      <td>0</td>\n      <td>NaN</td>\n      <td>1.0</td>\n      <td>0</td>\n      <td>1955-08-04</td>\n      <td>3021-09-18</td>\n      <td>2019-01-01</td>\n      <td>133.714974</td>\n    </tr>\n    <tr>\n      <th>1</th>\n      <td>112797</td>\n      <td>5026631</td>\n      <td>F</td>\n      <td>N</td>\n      <td>Y</td>\n      <td>0</td>\n      <td>99000.0</td>\n      <td>Working</td>\n      <td>Secondary / secondary special</td>\n      <td>Separated</td>\n      <td>...</td>\n      <td>0</td>\n      <td>0</td>\n      <td>0</td>\n      <td>Medicine staff</td>\n      <td>1.0</td>\n      <td>0</td>\n      <td>1972-03-30</td>\n      <td>1997-06-05</td>\n      <td>2019-01-01</td>\n      <td>158.800558</td>\n    </tr>\n    <tr>\n      <th>2</th>\n      <td>162434</td>\n      <td>5036645</td>\n      <td>M</td>\n      <td>Y</td>\n      <td>N</td>\n      <td>0</td>\n      <td>202500.0</td>\n      <td>Working</td>\n      <td>Incomplete higher</td>\n      <td>Married</td>\n      <td>...</td>\n      <td>0</td>\n      <td>0</td>\n      <td>0</td>\n      <td>Drivers</td>\n      <td>2.0</td>\n      <td>0</td>\n      <td>1987-03-24</td>\n      <td>2015-02-22</td>\n      <td>2019-01-01</td>\n      <td>203.608487</td>\n    </tr>\n    <tr>\n      <th>3</th>\n      <td>144343</td>\n      <td>5033584</td>\n      <td>F</td>\n      <td>N</td>\n      <td>Y</td>\n      <td>0</td>\n      <td>292500.0</td>\n      <td>Working</td>\n      <td>Higher education</td>\n      <td>Married</td>\n      <td>...</td>\n      <td>0</td>\n      <td>0</td>\n      <td>0</td>\n      <td>NaN</td>\n      <td>2.0</td>\n      <td>0</td>\n      <td>1973-03-15</td>\n      <td>2009-06-29</td>\n      <td>2019-01-01</td>\n      <td>113.204964</td>\n    </tr>\n    <tr>\n      <th>4</th>\n      <td>409695</td>\n      <td>5085755</td>\n      <td>F</td>\n      <td>Y</td>\n      <td>Y</td>\n      <td>1</td>\n      <td>112500.0</td>\n      <td>Commercial associate</td>\n      <td>Secondary / secondary special</td>\n      <td>Civil marriage</td>\n      <td>...</td>\n      <td>0</td>\n      <td>0</td>\n      <td>0</td>\n      <td>Core staff</td>\n      <td>3.0</td>\n      <td>0</td>\n      <td>1989-10-15</td>\n      <td>2019-07-03</td>\n      <td>2019-01-01</td>\n      <td>109.376260</td>\n    </tr>\n  </tbody>\n</table>\n<p>5 rows × 24 columns</p>\n</div>"
     },
     "execution_count": 4,
     "metadata": {},
     "output_type": "execute_result"
    }
   ],
   "source": [
    "df.head()"
   ]
  },
  {
   "cell_type": "code",
   "execution_count": 5,
   "id": "355a0331",
   "metadata": {
    "scrolled": true
   },
   "outputs": [
    {
     "data": {
      "text/plain": "        loan_id       id code_gender flag_own_car flag_own_realty  \\\n0          1008  5008804           M            Y               Y   \n1          1000  5008804           M            Y               Y   \n2          1012  5008804           M            Y               Y   \n3          1011  5008804           M            Y               Y   \n4          1003  5008804           M            Y               Y   \n...         ...      ...         ...          ...             ...   \n777710   172506  5150487           M            Y               N   \n777711   172513  5150487           M            Y               N   \n777712   172512  5150487           M            Y               N   \n777713   172500  5150487           M            Y               N   \n777714   172496  5150487           M            Y               N   \n\n        cnt_children  amt_income_total name_income_type  \\\n0                  0          427500.0          Working   \n1                  0          427500.0          Working   \n2                  0          427500.0          Working   \n3                  0          427500.0          Working   \n4                  0          427500.0          Working   \n...              ...               ...              ...   \n777710             0          202500.0          Working   \n777711             0          202500.0          Working   \n777712             0          202500.0          Working   \n777713             0          202500.0          Working   \n777714             0          202500.0          Working   \n\n                  name_education_type name_family_status  ... flag_work_phone  \\\n0                    Higher education     Civil marriage  ...               1   \n1                    Higher education     Civil marriage  ...               1   \n2                    Higher education     Civil marriage  ...               1   \n3                    Higher education     Civil marriage  ...               1   \n4                    Higher education     Civil marriage  ...               1   \n...                               ...                ...  ...             ...   \n777710  Secondary / secondary special            Married  ...               0   \n777711  Secondary / secondary special            Married  ...               0   \n777712  Secondary / secondary special            Married  ...               0   \n777713  Secondary / secondary special            Married  ...               0   \n777714  Secondary / secondary special            Married  ...               0   \n\n        flag_phone  flag_email  occupation_type  cnt_fam_members  status  \\\n0                0           0              NaN              2.0       0   \n1                0           0              NaN              2.0       0   \n2                0           0              NaN              2.0       0   \n3                0           0              NaN              2.0       0   \n4                0           0              NaN              2.0       0   \n...            ...         ...              ...              ...     ...   \n777710           0           0          Drivers              2.0       0   \n777711           0           0          Drivers              2.0       0   \n777712           0           0          Drivers              2.0       0   \n777713           0           0          Drivers              2.0       0   \n777714           0           0          Drivers              2.0       0   \n\n          birthday job_start_date  loan_date  loan_amount  \n0       1988-11-04     2009-04-11 2019-02-01   102.283361  \n1       1988-11-04     2009-04-11 2019-02-15   136.602049  \n2       1988-11-04     2009-04-11 2019-02-17   114.733694  \n3       1988-11-04     2009-04-11 2019-05-20   103.539050  \n4       1988-11-04     2009-04-11 2019-07-05   112.948147  \n...            ...            ...        ...          ...  \n777710  1968-08-08     2015-10-13 2020-09-10   117.792205  \n777711  1968-08-08     2015-10-13 2020-10-13   105.778335  \n777712  1968-08-08     2015-10-13 2020-10-16   112.319242  \n777713  1968-08-08     2015-10-13 2020-11-25   113.627617  \n777714  1968-08-08     2015-10-13 2020-12-04   107.346823  \n\n[777715 rows x 24 columns]",
      "text/html": "<div>\n<style scoped>\n    .dataframe tbody tr th:only-of-type {\n        vertical-align: middle;\n    }\n\n    .dataframe tbody tr th {\n        vertical-align: top;\n    }\n\n    .dataframe thead th {\n        text-align: right;\n    }\n</style>\n<table border=\"1\" class=\"dataframe\">\n  <thead>\n    <tr style=\"text-align: right;\">\n      <th></th>\n      <th>loan_id</th>\n      <th>id</th>\n      <th>code_gender</th>\n      <th>flag_own_car</th>\n      <th>flag_own_realty</th>\n      <th>cnt_children</th>\n      <th>amt_income_total</th>\n      <th>name_income_type</th>\n      <th>name_education_type</th>\n      <th>name_family_status</th>\n      <th>...</th>\n      <th>flag_work_phone</th>\n      <th>flag_phone</th>\n      <th>flag_email</th>\n      <th>occupation_type</th>\n      <th>cnt_fam_members</th>\n      <th>status</th>\n      <th>birthday</th>\n      <th>job_start_date</th>\n      <th>loan_date</th>\n      <th>loan_amount</th>\n    </tr>\n  </thead>\n  <tbody>\n    <tr>\n      <th>0</th>\n      <td>1008</td>\n      <td>5008804</td>\n      <td>M</td>\n      <td>Y</td>\n      <td>Y</td>\n      <td>0</td>\n      <td>427500.0</td>\n      <td>Working</td>\n      <td>Higher education</td>\n      <td>Civil marriage</td>\n      <td>...</td>\n      <td>1</td>\n      <td>0</td>\n      <td>0</td>\n      <td>NaN</td>\n      <td>2.0</td>\n      <td>0</td>\n      <td>1988-11-04</td>\n      <td>2009-04-11</td>\n      <td>2019-02-01</td>\n      <td>102.283361</td>\n    </tr>\n    <tr>\n      <th>1</th>\n      <td>1000</td>\n      <td>5008804</td>\n      <td>M</td>\n      <td>Y</td>\n      <td>Y</td>\n      <td>0</td>\n      <td>427500.0</td>\n      <td>Working</td>\n      <td>Higher education</td>\n      <td>Civil marriage</td>\n      <td>...</td>\n      <td>1</td>\n      <td>0</td>\n      <td>0</td>\n      <td>NaN</td>\n      <td>2.0</td>\n      <td>0</td>\n      <td>1988-11-04</td>\n      <td>2009-04-11</td>\n      <td>2019-02-15</td>\n      <td>136.602049</td>\n    </tr>\n    <tr>\n      <th>2</th>\n      <td>1012</td>\n      <td>5008804</td>\n      <td>M</td>\n      <td>Y</td>\n      <td>Y</td>\n      <td>0</td>\n      <td>427500.0</td>\n      <td>Working</td>\n      <td>Higher education</td>\n      <td>Civil marriage</td>\n      <td>...</td>\n      <td>1</td>\n      <td>0</td>\n      <td>0</td>\n      <td>NaN</td>\n      <td>2.0</td>\n      <td>0</td>\n      <td>1988-11-04</td>\n      <td>2009-04-11</td>\n      <td>2019-02-17</td>\n      <td>114.733694</td>\n    </tr>\n    <tr>\n      <th>3</th>\n      <td>1011</td>\n      <td>5008804</td>\n      <td>M</td>\n      <td>Y</td>\n      <td>Y</td>\n      <td>0</td>\n      <td>427500.0</td>\n      <td>Working</td>\n      <td>Higher education</td>\n      <td>Civil marriage</td>\n      <td>...</td>\n      <td>1</td>\n      <td>0</td>\n      <td>0</td>\n      <td>NaN</td>\n      <td>2.0</td>\n      <td>0</td>\n      <td>1988-11-04</td>\n      <td>2009-04-11</td>\n      <td>2019-05-20</td>\n      <td>103.539050</td>\n    </tr>\n    <tr>\n      <th>4</th>\n      <td>1003</td>\n      <td>5008804</td>\n      <td>M</td>\n      <td>Y</td>\n      <td>Y</td>\n      <td>0</td>\n      <td>427500.0</td>\n      <td>Working</td>\n      <td>Higher education</td>\n      <td>Civil marriage</td>\n      <td>...</td>\n      <td>1</td>\n      <td>0</td>\n      <td>0</td>\n      <td>NaN</td>\n      <td>2.0</td>\n      <td>0</td>\n      <td>1988-11-04</td>\n      <td>2009-04-11</td>\n      <td>2019-07-05</td>\n      <td>112.948147</td>\n    </tr>\n    <tr>\n      <th>...</th>\n      <td>...</td>\n      <td>...</td>\n      <td>...</td>\n      <td>...</td>\n      <td>...</td>\n      <td>...</td>\n      <td>...</td>\n      <td>...</td>\n      <td>...</td>\n      <td>...</td>\n      <td>...</td>\n      <td>...</td>\n      <td>...</td>\n      <td>...</td>\n      <td>...</td>\n      <td>...</td>\n      <td>...</td>\n      <td>...</td>\n      <td>...</td>\n      <td>...</td>\n      <td>...</td>\n    </tr>\n    <tr>\n      <th>777710</th>\n      <td>172506</td>\n      <td>5150487</td>\n      <td>M</td>\n      <td>Y</td>\n      <td>N</td>\n      <td>0</td>\n      <td>202500.0</td>\n      <td>Working</td>\n      <td>Secondary / secondary special</td>\n      <td>Married</td>\n      <td>...</td>\n      <td>0</td>\n      <td>0</td>\n      <td>0</td>\n      <td>Drivers</td>\n      <td>2.0</td>\n      <td>0</td>\n      <td>1968-08-08</td>\n      <td>2015-10-13</td>\n      <td>2020-09-10</td>\n      <td>117.792205</td>\n    </tr>\n    <tr>\n      <th>777711</th>\n      <td>172513</td>\n      <td>5150487</td>\n      <td>M</td>\n      <td>Y</td>\n      <td>N</td>\n      <td>0</td>\n      <td>202500.0</td>\n      <td>Working</td>\n      <td>Secondary / secondary special</td>\n      <td>Married</td>\n      <td>...</td>\n      <td>0</td>\n      <td>0</td>\n      <td>0</td>\n      <td>Drivers</td>\n      <td>2.0</td>\n      <td>0</td>\n      <td>1968-08-08</td>\n      <td>2015-10-13</td>\n      <td>2020-10-13</td>\n      <td>105.778335</td>\n    </tr>\n    <tr>\n      <th>777712</th>\n      <td>172512</td>\n      <td>5150487</td>\n      <td>M</td>\n      <td>Y</td>\n      <td>N</td>\n      <td>0</td>\n      <td>202500.0</td>\n      <td>Working</td>\n      <td>Secondary / secondary special</td>\n      <td>Married</td>\n      <td>...</td>\n      <td>0</td>\n      <td>0</td>\n      <td>0</td>\n      <td>Drivers</td>\n      <td>2.0</td>\n      <td>0</td>\n      <td>1968-08-08</td>\n      <td>2015-10-13</td>\n      <td>2020-10-16</td>\n      <td>112.319242</td>\n    </tr>\n    <tr>\n      <th>777713</th>\n      <td>172500</td>\n      <td>5150487</td>\n      <td>M</td>\n      <td>Y</td>\n      <td>N</td>\n      <td>0</td>\n      <td>202500.0</td>\n      <td>Working</td>\n      <td>Secondary / secondary special</td>\n      <td>Married</td>\n      <td>...</td>\n      <td>0</td>\n      <td>0</td>\n      <td>0</td>\n      <td>Drivers</td>\n      <td>2.0</td>\n      <td>0</td>\n      <td>1968-08-08</td>\n      <td>2015-10-13</td>\n      <td>2020-11-25</td>\n      <td>113.627617</td>\n    </tr>\n    <tr>\n      <th>777714</th>\n      <td>172496</td>\n      <td>5150487</td>\n      <td>M</td>\n      <td>Y</td>\n      <td>N</td>\n      <td>0</td>\n      <td>202500.0</td>\n      <td>Working</td>\n      <td>Secondary / secondary special</td>\n      <td>Married</td>\n      <td>...</td>\n      <td>0</td>\n      <td>0</td>\n      <td>0</td>\n      <td>Drivers</td>\n      <td>2.0</td>\n      <td>0</td>\n      <td>1968-08-08</td>\n      <td>2015-10-13</td>\n      <td>2020-12-04</td>\n      <td>107.346823</td>\n    </tr>\n  </tbody>\n</table>\n<p>777715 rows × 24 columns</p>\n</div>"
     },
     "execution_count": 5,
     "metadata": {},
     "output_type": "execute_result"
    }
   ],
   "source": [
    "df = df.sort_values(by=[\"id\", \"loan_date\"])\n",
    "df = df.reset_index(drop=True)\n",
    "df[\"loan_date\"] = pd.to_datetime(df.loan_date)\n",
    "df"
   ]
  },
  {
   "cell_type": "markdown",
   "id": "4e25b5cd",
   "metadata": {},
   "source": [
    "#### Feature nb_previous_loans"
   ]
  },
  {
   "cell_type": "code",
   "execution_count": 6,
   "id": "a52083be",
   "metadata": {},
   "outputs": [],
   "source": [
    "df_grouped = df.groupby(\"id\")\n",
    "df[\"nb_previous_loans\"] = df_grouped[\"loan_date\"].rank(method=\"first\") - 1"
   ]
  },
  {
   "cell_type": "markdown",
   "id": "be778c3a",
   "metadata": {},
   "source": [
    "#### Feature avg_amount_loans_previous"
   ]
  },
  {
   "cell_type": "code",
   "execution_count": 7,
   "id": "87a14b65",
   "metadata": {},
   "outputs": [],
   "source": [
    "def avg_amount_loans_prev(df):\n",
    "    avg = pd.Series(index=df.index)\n",
    "    for i in df.index:\n",
    "        df_aux = df.loc[df.loan_date < df.loan_date.loc[i], :]\n",
    "        avg.at[i] = df_aux.loan_amount.mean()\n",
    "    return avg"
   ]
  },
  {
   "cell_type": "code",
   "execution_count": 8,
   "id": "003c708c",
   "metadata": {},
   "outputs": [
    {
     "name": "stderr",
     "output_type": "stream",
     "text": [
      "/Users/samuel.rojo/.pyenv/versions/ml_technical_challenge/lib/python3.7/site-packages/ipykernel_launcher.py:1: DeprecationWarning: The default dtype for empty Series will be 'object' instead of 'float64' in a future version. Specify a dtype explicitly to silence this warning.\n",
      "  \"\"\"Entry point for launching an IPython kernel.\n",
      "/Users/samuel.rojo/.pyenv/versions/ml_technical_challenge/lib/python3.7/site-packages/ipykernel_launcher.py:2: DeprecationWarning: The default dtype for empty Series will be 'object' instead of 'float64' in a future version. Specify a dtype explicitly to silence this warning.\n",
      "  \n"
     ]
    }
   ],
   "source": [
    "avg_amount_loans_previous = pd.Series()\n",
    "# the following cycle is the one that takes forever if we try to compute it for the whole dataset\n",
    "for user in df.id.unique():\n",
    "    df_user = df.loc[df.id == user, :]\n",
    "    avg_amount_loans_previous = avg_amount_loans_previous.append(avg_amount_loans_prev(df_user))"
   ]
  },
  {
   "cell_type": "code",
   "execution_count": 9,
   "id": "9657a8ff",
   "metadata": {},
   "outputs": [],
   "source": [
    "df[\"avg_amount_loans_previous\"] = avg_amount_loans_previous"
   ]
  },
  {
   "cell_type": "markdown",
   "id": "e2e743fb",
   "metadata": {},
   "source": [
    "#### Feature age"
   ]
  },
  {
   "cell_type": "code",
   "execution_count": 10,
   "id": "a6433fee",
   "metadata": {},
   "outputs": [],
   "source": [
    "from datetime import datetime, date"
   ]
  },
  {
   "cell_type": "code",
   "execution_count": 11,
   "id": "2d5ee386",
   "metadata": {},
   "outputs": [],
   "source": [
    "df['birthday'] = pd.to_datetime(df['birthday'], errors='coerce')\n"
   ]
  },
  {
   "cell_type": "code",
   "execution_count": 12,
   "id": "4a2628da",
   "metadata": {
    "scrolled": true
   },
   "outputs": [],
   "source": [
    "df['age'] = (pd.to_datetime('today').normalize() - df['birthday']).dt.days // 365"
   ]
  },
  {
   "cell_type": "markdown",
   "id": "b358b9e1",
   "metadata": {},
   "source": [
    "#### Feature years_on_the_job"
   ]
  },
  {
   "cell_type": "code",
   "execution_count": 13,
   "id": "c655109b",
   "metadata": {},
   "outputs": [],
   "source": [
    "df['job_start_date'] = pd.to_datetime(df['job_start_date'], errors='coerce')"
   ]
  },
  {
   "cell_type": "code",
   "execution_count": 14,
   "id": "a04d6133",
   "metadata": {},
   "outputs": [],
   "source": [
    "df['years_on_the_job'] = (pd.to_datetime('today').normalize() - df['job_start_date']).dt.days // 365"
   ]
  },
  {
   "cell_type": "markdown",
   "id": "e058043b",
   "metadata": {},
   "source": [
    "#### Feature flag_own_car"
   ]
  },
  {
   "cell_type": "code",
   "execution_count": 15,
   "id": "8469bffe",
   "metadata": {},
   "outputs": [],
   "source": [
    "df['flag_own_car'] = df.flag_own_car.apply(lambda x : 0 if x == 'N' else 1)"
   ]
  },
  {
   "cell_type": "markdown",
   "id": "6213c289",
   "metadata": {},
   "source": [
    "## Save dataset for model training"
   ]
  },
  {
   "cell_type": "code",
   "execution_count": 16,
   "id": "1f4d8b46",
   "metadata": {},
   "outputs": [],
   "source": [
    "df = df[['id', 'age', 'years_on_the_job', 'nb_previous_loans', 'avg_amount_loans_previous', 'flag_own_car', 'status']]\n"
   ]
  },
  {
   "cell_type": "code",
   "execution_count": 17,
   "id": "46a14cc8",
   "metadata": {},
   "outputs": [],
   "source": [
    "df.to_csv('train_model.csv', index=False)"
   ]
  }
 ],
 "metadata": {
  "kernelspec": {
   "display_name": "Python 3 (ipykernel)",
   "language": "python",
   "name": "python3"
  },
  "language_info": {
   "codemirror_mode": {
    "name": "ipython",
    "version": 3
   },
   "file_extension": ".py",
   "mimetype": "text/x-python",
   "name": "python",
   "nbconvert_exporter": "python",
   "pygments_lexer": "ipython3",
   "version": "3.9.6"
  }
 },
 "nbformat": 4,
 "nbformat_minor": 5
}